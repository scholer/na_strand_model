{
 "cells": [
  {
   "cell_type": "code",
   "execution_count": 1,
   "metadata": {
    "collapsed": true
   },
   "outputs": [],
   "source": [
    "import os\n",
    "import sys\n",
    "# import webbrowser\n",
    "import shutil\n",
    "import pandas as pd\n",
    "# import pdb"
   ]
  },
  {
   "cell_type": "code",
   "execution_count": 2,
   "metadata": {
    "collapsed": true
   },
   "outputs": [],
   "source": [
    "%matplotlib inline"
   ]
  },
  {
   "cell_type": "code",
   "execution_count": 3,
   "metadata": {
    "collapsed": true
   },
   "outputs": [],
   "source": [
    "from matplotlib import pyplot"
   ]
  },
  {
   "cell_type": "code",
   "execution_count": 17,
   "metadata": {
    "collapsed": false
   },
   "outputs": [
    {
     "name": "stdout",
     "output_type": "stream",
     "text": [
      "LIBDIR: /Users/rasmus/Dev/nascent\n",
      "Scriptdir: /Users/rasmus/Dev/nascent/examples/single_duplex\n"
     ]
    }
   ],
   "source": [
    "#LIBPATH = os.path.abspath(\"../..\")\n",
    "scriptdir = os.path.abspath(\".\")\n",
    "examples_dir = os.path.dirname(scriptdir)\n",
    "LIBPATH = os.path.dirname(examples_dir)\n",
    "print(\"LIBDIR:\", LIBDIR)\n",
    "print(\"Scriptdir:\", scriptdir)\n",
    "#sys.path.insert(0, LIBPATH)"
   ]
  },
  {
   "cell_type": "code",
   "execution_count": 18,
   "metadata": {
    "collapsed": false
   },
   "outputs": [],
   "source": [
    "from nascent.stat_analysis.processing import get_datafile"
   ]
  },
  {
   "cell_type": "code",
   "execution_count": 57,
   "metadata": {
    "collapsed": false
   },
   "outputs": [
    {
     "name": "stdout",
     "output_type": "stream",
     "text": [
      "Using data root directory: /Users/rasmus/Dev/nascent/examples/single_duplex/simdata/fourway_junction_1\n",
      "Using stats in folder: /Users/rasmus/Dev/nascent/examples/single_duplex/simdata/fourway_junction_1/2016-02-25 220115\n"
     ]
    }
   ],
   "source": [
    "structure = \"circfb_1\"\n",
    "structure = \"fourway_junction_1\"\n",
    "\n",
    "runidxs = [-1] #\n",
    "# runidxs = [-2] #\n",
    "\n",
    "statsfiles, statsfolders = zip(*[\n",
    "    get_datafile(statsfile=\"monitored_strands_stats.tsv\", runidx=runidx,\n",
    "                 basedir=scriptdir, structure=structure)\n",
    "    for runidx in runidxs])"
   ]
  },
  {
   "cell_type": "code",
   "execution_count": 58,
   "metadata": {
    "collapsed": false
   },
   "outputs": [
    {
     "name": "stdout",
     "output_type": "stream",
     "text": [
      "('/Users/rasmus/Dev/nascent/examples/single_duplex/simdata/fourway_junction_1/2016-02-25 220115/monitored_strands_stats.tsv',)\n"
     ]
    }
   ],
   "source": [
    "print(statsfiles)\n",
    "stats = [pd.read_table(statsfile) for statsfile in statsfiles] # http://pandas.pydata.org/pandas-docs/stable/io.html\n",
    "runstats = stats[0]"
   ]
  },
  {
   "cell_type": "code",
   "execution_count": 59,
   "metadata": {
    "collapsed": false
   },
   "outputs": [],
   "source": [
    "runstats['system_time_end'] = runstats['system_time'].shift(-1).dropna()\n",
    "data_by_strand = runstats.groupby(['strand_uid'], sort=False)\n",
    "strand, s_trace = next(iter(data_by_strand))\n",
    "s_state_traces = s_trace.groupby(['complex_state'], sort=False)"
   ]
  },
  {
   "cell_type": "code",
   "execution_count": 60,
   "metadata": {
    "collapsed": false
   },
   "outputs": [],
   "source": [
    "\n",
    "for cstate, s_state in s_state_traces:\n",
    "    #     s_state['s_state_time_cum'] = s_state['tau'].cumsum()\n",
    "    #     s_state['s_state_partition'] = s_state['s_state_time_cum']/s_state['system_time_end']\n",
    "    # Edit: Avoid using chained indexing:\n",
    "    # s_state may be a copy\n",
    "    # s_state.loc[:,'s_state_time_cum'] = s_state.loc[:'tau'].cumsum()    \n",
    "    # TypeError: cannot do slice indexing on <class 'pandas.core.index.Int64Index'> with these indexers [tau] of <class 'str'>\n",
    "    # s_state.loc[:,'s_state_time_cum'] = s_state['tau'].cumsum()  # Still get SettingWithCopyWarning\n",
    "    s_state_time_cum = s_state['tau'].cumsum()  # You can just use the copy as-is and make a column..\n",
    "    # s_state['s_state_partition'] = s_state['s_state_time_cum']/s_state['system_time_end']\n"
   ]
  },
  {
   "cell_type": "code",
   "execution_count": 66,
   "metadata": {
    "collapsed": false
   },
   "outputs": [
    {
     "data": {
      "text/html": [
       "<div>\n",
       "<table border=\"1\" class=\"dataframe\">\n",
       "  <thead>\n",
       "    <tr style=\"text-align: right;\">\n",
       "      <th></th>\n",
       "      <th>strand_uid</th>\n",
       "      <th>system_time</th>\n",
       "      <th>tau</th>\n",
       "      <th>complex_uid</th>\n",
       "      <th>N_domains</th>\n",
       "      <th>N_hybridized_domains</th>\n",
       "      <th>system_time_end</th>\n",
       "    </tr>\n",
       "    <tr>\n",
       "      <th>complex_state</th>\n",
       "      <th></th>\n",
       "      <th></th>\n",
       "      <th></th>\n",
       "      <th></th>\n",
       "      <th></th>\n",
       "      <th></th>\n",
       "      <th></th>\n",
       "    </tr>\n",
       "  </thead>\n",
       "  <tbody>\n",
       "    <tr>\n",
       "      <th>25268</th>\n",
       "      <td>0</td>\n",
       "      <td>3003896.27159</td>\n",
       "      <td>634.006750</td>\n",
       "      <td>10044</td>\n",
       "      <td>20088</td>\n",
       "      <td>20088</td>\n",
       "      <td>3004530.27849</td>\n",
       "    </tr>\n",
       "    <tr>\n",
       "      <th>89632</th>\n",
       "      <td>0</td>\n",
       "      <td>2014900.69846</td>\n",
       "      <td>483.810259</td>\n",
       "      <td>7829</td>\n",
       "      <td>15658</td>\n",
       "      <td>15658</td>\n",
       "      <td>2015384.50858</td>\n",
       "    </tr>\n",
       "    <tr>\n",
       "      <th>36224</th>\n",
       "      <td>0</td>\n",
       "      <td>2051438.27049</td>\n",
       "      <td>268.909082</td>\n",
       "      <td>7465</td>\n",
       "      <td>14930</td>\n",
       "      <td>14930</td>\n",
       "      <td>2051707.17957</td>\n",
       "    </tr>\n",
       "    <tr>\n",
       "      <th>82748</th>\n",
       "      <td>0</td>\n",
       "      <td>2948948.82625</td>\n",
       "      <td>197.552413</td>\n",
       "      <td>8745</td>\n",
       "      <td>17490</td>\n",
       "      <td>17490</td>\n",
       "      <td>2947146.19993</td>\n",
       "    </tr>\n",
       "    <tr>\n",
       "      <th>82204</th>\n",
       "      <td>0</td>\n",
       "      <td>2058112.96305</td>\n",
       "      <td>193.463618</td>\n",
       "      <td>7068</td>\n",
       "      <td>14136</td>\n",
       "      <td>14136</td>\n",
       "      <td>2058306.42718</td>\n",
       "    </tr>\n",
       "    <tr>\n",
       "      <th>91988</th>\n",
       "      <td>0</td>\n",
       "      <td>2045241.89822</td>\n",
       "      <td>134.754368</td>\n",
       "      <td>6765</td>\n",
       "      <td>13530</td>\n",
       "      <td>13530</td>\n",
       "      <td>2045376.65279</td>\n",
       "    </tr>\n",
       "    <tr>\n",
       "      <th>21560</th>\n",
       "      <td>0</td>\n",
       "      <td>4833367.02786</td>\n",
       "      <td>85.720077</td>\n",
       "      <td>14573</td>\n",
       "      <td>29146</td>\n",
       "      <td>29146</td>\n",
       "      <td>4833452.92670</td>\n",
       "    </tr>\n",
       "    <tr>\n",
       "      <th>7374</th>\n",
       "      <td>0</td>\n",
       "      <td>1.52639</td>\n",
       "      <td>1.038040</td>\n",
       "      <td>0</td>\n",
       "      <td>4</td>\n",
       "      <td>2</td>\n",
       "      <td>2.56443</td>\n",
       "    </tr>\n",
       "    <tr>\n",
       "      <th>0</th>\n",
       "      <td>0</td>\n",
       "      <td>0.00000</td>\n",
       "      <td>0.506980</td>\n",
       "      <td>-1</td>\n",
       "      <td>2</td>\n",
       "      <td>0</td>\n",
       "      <td>0.50698</td>\n",
       "    </tr>\n",
       "    <tr>\n",
       "      <th>67186</th>\n",
       "      <td>0</td>\n",
       "      <td>1058018.16391</td>\n",
       "      <td>0.163654</td>\n",
       "      <td>2346</td>\n",
       "      <td>4692</td>\n",
       "      <td>2346</td>\n",
       "      <td>1058018.32755</td>\n",
       "    </tr>\n",
       "    <tr>\n",
       "      <th>92554</th>\n",
       "      <td>0</td>\n",
       "      <td>970335.51228</td>\n",
       "      <td>0.051029</td>\n",
       "      <td>1749</td>\n",
       "      <td>3498</td>\n",
       "      <td>1749</td>\n",
       "      <td>970335.56318</td>\n",
       "    </tr>\n",
       "    <tr>\n",
       "      <th>75814</th>\n",
       "      <td>0</td>\n",
       "      <td>921547.68988</td>\n",
       "      <td>0.022692</td>\n",
       "      <td>1393</td>\n",
       "      <td>2786</td>\n",
       "      <td>1393</td>\n",
       "      <td>921547.71254</td>\n",
       "    </tr>\n",
       "    <tr>\n",
       "      <th>34080</th>\n",
       "      <td>0</td>\n",
       "      <td>43863.62689</td>\n",
       "      <td>0.000134</td>\n",
       "      <td>43</td>\n",
       "      <td>86</td>\n",
       "      <td>86</td>\n",
       "      <td>43863.62702</td>\n",
       "    </tr>\n",
       "    <tr>\n",
       "      <th>73404</th>\n",
       "      <td>0</td>\n",
       "      <td>22934.10816</td>\n",
       "      <td>0.000105</td>\n",
       "      <td>23</td>\n",
       "      <td>46</td>\n",
       "      <td>46</td>\n",
       "      <td>22934.10828</td>\n",
       "    </tr>\n",
       "    <tr>\n",
       "      <th>30152</th>\n",
       "      <td>0</td>\n",
       "      <td>21320.15576</td>\n",
       "      <td>0.000092</td>\n",
       "      <td>23</td>\n",
       "      <td>46</td>\n",
       "      <td>46</td>\n",
       "      <td>21320.15583</td>\n",
       "    </tr>\n",
       "    <tr>\n",
       "      <th>38918</th>\n",
       "      <td>0</td>\n",
       "      <td>9391.28046</td>\n",
       "      <td>0.000069</td>\n",
       "      <td>9</td>\n",
       "      <td>18</td>\n",
       "      <td>18</td>\n",
       "      <td>9391.28053</td>\n",
       "    </tr>\n",
       "    <tr>\n",
       "      <th>66890</th>\n",
       "      <td>0</td>\n",
       "      <td>8549.68365</td>\n",
       "      <td>0.000033</td>\n",
       "      <td>10</td>\n",
       "      <td>20</td>\n",
       "      <td>20</td>\n",
       "      <td>8549.68367</td>\n",
       "    </tr>\n",
       "    <tr>\n",
       "      <th>53938</th>\n",
       "      <td>0</td>\n",
       "      <td>3127.41605</td>\n",
       "      <td>0.000016</td>\n",
       "      <td>4</td>\n",
       "      <td>8</td>\n",
       "      <td>8</td>\n",
       "      <td>3127.41607</td>\n",
       "    </tr>\n",
       "    <tr>\n",
       "      <th>99592</th>\n",
       "      <td>0</td>\n",
       "      <td>4187.19314</td>\n",
       "      <td>0.000006</td>\n",
       "      <td>4</td>\n",
       "      <td>8</td>\n",
       "      <td>4</td>\n",
       "      <td>4187.19316</td>\n",
       "    </tr>\n",
       "    <tr>\n",
       "      <th>94620</th>\n",
       "      <td>0</td>\n",
       "      <td>1799.27561</td>\n",
       "      <td>0.000003</td>\n",
       "      <td>1</td>\n",
       "      <td>2</td>\n",
       "      <td>1</td>\n",
       "      <td>1799.27562</td>\n",
       "    </tr>\n",
       "    <tr>\n",
       "      <th>46432</th>\n",
       "      <td>0</td>\n",
       "      <td>1924.18687</td>\n",
       "      <td>0.000001</td>\n",
       "      <td>1</td>\n",
       "      <td>2</td>\n",
       "      <td>1</td>\n",
       "      <td>1924.18687</td>\n",
       "    </tr>\n",
       "  </tbody>\n",
       "</table>\n",
       "</div>"
      ],
      "text/plain": [
       "               strand_uid    system_time         tau  complex_uid  N_domains  \\\n",
       "complex_state                                                                  \n",
       "25268                   0  3003896.27159  634.006750        10044      20088   \n",
       "89632                   0  2014900.69846  483.810259         7829      15658   \n",
       "36224                   0  2051438.27049  268.909082         7465      14930   \n",
       "82748                   0  2948948.82625  197.552413         8745      17490   \n",
       "82204                   0  2058112.96305  193.463618         7068      14136   \n",
       "91988                   0  2045241.89822  134.754368         6765      13530   \n",
       "21560                   0  4833367.02786   85.720077        14573      29146   \n",
       "7374                    0        1.52639    1.038040            0          4   \n",
       "0                       0        0.00000    0.506980           -1          2   \n",
       "67186                   0  1058018.16391    0.163654         2346       4692   \n",
       "92554                   0   970335.51228    0.051029         1749       3498   \n",
       "75814                   0   921547.68988    0.022692         1393       2786   \n",
       "34080                   0    43863.62689    0.000134           43         86   \n",
       "73404                   0    22934.10816    0.000105           23         46   \n",
       "30152                   0    21320.15576    0.000092           23         46   \n",
       "38918                   0     9391.28046    0.000069            9         18   \n",
       "66890                   0     8549.68365    0.000033           10         20   \n",
       "53938                   0     3127.41605    0.000016            4          8   \n",
       "99592                   0     4187.19314    0.000006            4          8   \n",
       "94620                   0     1799.27561    0.000003            1          2   \n",
       "46432                   0     1924.18687    0.000001            1          2   \n",
       "\n",
       "               N_hybridized_domains  system_time_end  \n",
       "complex_state                                         \n",
       "25268                         20088    3004530.27849  \n",
       "89632                         15658    2015384.50858  \n",
       "36224                         14930    2051707.17957  \n",
       "82748                         17490    2947146.19993  \n",
       "82204                         14136    2058306.42718  \n",
       "91988                         13530    2045376.65279  \n",
       "21560                         29146    4833452.92670  \n",
       "7374                              2          2.56443  \n",
       "0                                 0          0.50698  \n",
       "67186                          2346    1058018.32755  \n",
       "92554                          1749     970335.56318  \n",
       "75814                          1393     921547.71254  \n",
       "34080                            86      43863.62702  \n",
       "73404                            46      22934.10828  \n",
       "30152                            46      21320.15583  \n",
       "38918                            18       9391.28053  \n",
       "66890                            20       8549.68367  \n",
       "53938                             8       3127.41607  \n",
       "99592                             4       4187.19316  \n",
       "94620                             1       1799.27562  \n",
       "46432                             1       1924.18687  "
      ]
     },
     "execution_count": 66,
     "metadata": {},
     "output_type": "execute_result"
    }
   ],
   "source": [
    "c_state_sums = s_state_traces.sum()\n",
    "# c_state_sums.sort_values(['tau']) # Multiple columns OK\n",
    "c_state_sums.sort_values('tau', ascending=False) # Single column string also OK"
   ]
  },
  {
   "cell_type": "code",
   "execution_count": null,
   "metadata": {
    "collapsed": false
   },
   "outputs": [],
   "source": []
  },
  {
   "cell_type": "code",
   "execution_count": null,
   "metadata": {
    "collapsed": true
   },
   "outputs": [],
   "source": []
  },
  {
   "cell_type": "code",
   "execution_count": null,
   "metadata": {
    "collapsed": true
   },
   "outputs": [],
   "source": []
  }
 ],
 "metadata": {
  "kernelspec": {
   "display_name": "Python 3",
   "language": "python",
   "name": "python3"
  },
  "language_info": {
   "codemirror_mode": {
    "name": "ipython",
    "version": 3
   },
   "file_extension": ".py",
   "mimetype": "text/x-python",
   "name": "python",
   "nbconvert_exporter": "python",
   "pygments_lexer": "ipython3",
   "version": "3.4.4"
  }
 },
 "nbformat": 4,
 "nbformat_minor": 0
}
