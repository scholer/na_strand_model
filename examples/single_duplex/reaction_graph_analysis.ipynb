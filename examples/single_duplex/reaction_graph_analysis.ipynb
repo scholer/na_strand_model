{
 "cells": [
  {
   "cell_type": "code",
   "execution_count": 72,
   "metadata": {
    "collapsed": true
   },
   "outputs": [],
   "source": [
    "import os\n",
    "import sys\n",
    "# import webbrowser\n",
    "import shutil\n",
    "import pandas as pd\n",
    "# import pdb"
   ]
  },
  {
   "cell_type": "code",
   "execution_count": 73,
   "metadata": {
    "collapsed": true
   },
   "outputs": [],
   "source": [
    "%matplotlib inline"
   ]
  },
  {
   "cell_type": "code",
   "execution_count": 74,
   "metadata": {
    "collapsed": true
   },
   "outputs": [],
   "source": [
    "from matplotlib import pyplot"
   ]
  },
  {
   "cell_type": "code",
   "execution_count": 75,
   "metadata": {
    "collapsed": false
   },
   "outputs": [
    {
     "name": "stdout",
     "output_type": "stream",
     "text": [
      "LIBDIR: /Users/rasmus/Dev/nascent\n",
      "Scriptdir: /Users/rasmus/Dev/nascent/examples/single_duplex\n"
     ]
    }
   ],
   "source": [
    "#LIBPATH = os.path.abspath(\"../..\")\n",
    "scriptdir = os.path.abspath(\".\")\n",
    "examples_dir = os.path.dirname(scriptdir)\n",
    "LIBPATH = os.path.dirname(examples_dir)\n",
    "print(\"LIBDIR:\", LIBDIR)\n",
    "print(\"Scriptdir:\", scriptdir)\n",
    "#sys.path.insert(0, LIBPATH)"
   ]
  },
  {
   "cell_type": "code",
   "execution_count": 76,
   "metadata": {
    "collapsed": false
   },
   "outputs": [],
   "source": [
    "from nascent.stat_analysis.processing import get_datafile"
   ]
  },
  {
   "cell_type": "code",
   "execution_count": 77,
   "metadata": {
    "collapsed": false
   },
   "outputs": [
    {
     "name": "stdout",
     "output_type": "stream",
     "text": [
      "Using data root directory: /Users/rasmus/Dev/nascent/examples/single_duplex/simdata/fourway_junction_1\n",
      "Using stats in folder: /Users/rasmus/Dev/nascent/examples/single_duplex/simdata/fourway_junction_1/2016-03-14 193519\n"
     ]
    }
   ],
   "source": [
    "structure = \"circfb_1\"\n",
    "structure = \"fourway_junction_1\"\n",
    "\n",
    "runidxs = [-1] #\n",
    "# runidxs = [-2] #\n",
    "\n",
    "statsfiles, statsfolders = zip(*[\n",
    "    get_datafile(statsfile=\"monitored_strands_stats.tsv\", runidx=runidx,\n",
    "                 basedir=scriptdir, structure=structure)\n",
    "    for runidx in runidxs])"
   ]
  },
  {
   "cell_type": "code",
   "execution_count": 78,
   "metadata": {
    "collapsed": false
   },
   "outputs": [
    {
     "name": "stdout",
     "output_type": "stream",
     "text": [
      "('/Users/rasmus/Dev/nascent/examples/single_duplex/simdata/fourway_junction_1/2016-03-14 193519/monitored_strands_stats.tsv',)\n"
     ]
    }
   ],
   "source": [
    "print(statsfiles)\n",
    "stats = [pd.read_table(statsfile) for statsfile in statsfiles] # http://pandas.pydata.org/pandas-docs/stable/io.html\n",
    "runstats = stats[0]"
   ]
  },
  {
   "cell_type": "code",
   "execution_count": 79,
   "metadata": {
    "collapsed": false
   },
   "outputs": [],
   "source": [
    "runstats['system_time_end'] = runstats['system_time'].shift(-1).dropna()\n",
    "data_by_strand = runstats.groupby(['strand_uid'], sort=False)\n",
    "strand, s_trace = next(iter(data_by_strand))\n",
    "s_state_traces = s_trace.groupby(['complex_state'], sort=False)"
   ]
  },
  {
   "cell_type": "code",
   "execution_count": 80,
   "metadata": {
    "collapsed": false
   },
   "outputs": [],
   "source": [
    "\n",
    "for cstate, s_state in s_state_traces:\n",
    "    #     s_state['s_state_time_cum'] = s_state['tau'].cumsum()\n",
    "    #     s_state['s_state_partition'] = s_state['s_state_time_cum']/s_state['system_time_end']\n",
    "    # Edit: Avoid using chained indexing:\n",
    "    # s_state may be a copy\n",
    "    # s_state.loc[:,'s_state_time_cum'] = s_state.loc[:'tau'].cumsum()    \n",
    "    # TypeError: cannot do slice indexing on <class 'pandas.core.index.Int64Index'> with these indexers [tau] of <class 'str'>\n",
    "    # s_state.loc[:,'s_state_time_cum'] = s_state['tau'].cumsum()  # Still get SettingWithCopyWarning\n",
    "    s_state_time_cum = s_state['tau'].cumsum()  # You can just use the copy as-is and make a column..\n",
    "    # s_state['s_state_partition'] = s_state['s_state_time_cum']/s_state['system_time_end']\n"
   ]
  },
  {
   "cell_type": "code",
   "execution_count": 96,
   "metadata": {
    "collapsed": false,
    "scrolled": true
   },
   "outputs": [
    {
     "name": "stdout",
     "output_type": "stream",
     "text": [
      "                       tau\n",
      "complex_state             \n",
      "28604          1213.883809\n",
      "28392           938.379253\n",
      "95192           576.028348\n",
      "20476           422.622767\n",
      "99244           415.129178\n"
     ]
    }
   ],
   "source": [
    "c_state_sums = s_state_traces.sum()\n",
    "# c_state_sums.sort_values(['tau']) # Multiple columns OK\n",
    "sums_view = c_state_sums.sort_values('tau', ascending=False)\n",
    "#print(sums_view.head(10)) # Single column string also OK\n",
    "sums_view[['tau']].head()  # pretty table view\n",
    "print(sums_view[['tau']].head())  # prints a 'tau' header\n",
    "# print(sums_view['tau'].head())  # no column headers\n"
   ]
  },
  {
   "cell_type": "code",
   "execution_count": null,
   "metadata": {
    "collapsed": false
   },
   "outputs": [],
   "source": []
  },
  {
   "cell_type": "code",
   "execution_count": null,
   "metadata": {
    "collapsed": true
   },
   "outputs": [],
   "source": []
  },
  {
   "cell_type": "code",
   "execution_count": null,
   "metadata": {
    "collapsed": true
   },
   "outputs": [],
   "source": []
  }
 ],
 "metadata": {
  "kernelspec": {
   "display_name": "Python 3",
   "language": "python",
   "name": "python3"
  },
  "language_info": {
   "codemirror_mode": {
    "name": "ipython",
    "version": 3
   },
   "file_extension": ".py",
   "mimetype": "text/x-python",
   "name": "python",
   "nbconvert_exporter": "python",
   "pygments_lexer": "ipython3",
   "version": "3.4.4"
  }
 },
 "nbformat": 4,
 "nbformat_minor": 0
}
