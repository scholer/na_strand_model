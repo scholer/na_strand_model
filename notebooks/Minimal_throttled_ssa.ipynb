{
 "cells": [
  {
   "cell_type": "code",
   "execution_count": 1,
   "metadata": {
    "collapsed": true
   },
   "outputs": [],
   "source": [
    "from math import log, exp\n",
    "ln = log\n",
    "import random\n",
    "from pprint import pprint\n",
    "import numpy as np\n",
    "from collections import defaultdict\n",
    "%matplotlib inline\n",
    "from matplotlib import pyplot"
   ]
  },
  {
   "cell_type": "code",
   "execution_count": 2,
   "metadata": {
    "collapsed": true
   },
   "outputs": [],
   "source": [
    "def random_choice(choices, weights=None):\n",
    "    \"\"\" Select a random element in choices using a as weights. \"\"\"\n",
    "    if weights is None:\n",
    "        weights = [1 for _ in range(len(choices))]\n",
    "    r2 = random.random()\n",
    "    breaking_point = r2*sum(weights)\n",
    "    j = 0\n",
    "    sum_j = weights[j]\n",
    "    while sum_j < breaking_point:\n",
    "        j += 1\n",
    "        sum_j += weights[j]\n",
    "    return choices[j]"
   ]
  },
  {
   "cell_type": "code",
   "execution_count": 16,
   "metadata": {
    "collapsed": true
   },
   "outputs": [],
   "source": [
    "def throttled_ssa(rate_constants, throttle_func=None, N_steps_max=100000, time_max=None, start_state=None):\n",
    "    \"\"\" Minimal stochastic simulation algorithm. rate_constants: dict of dicts, [start][end] = k(start->end) \"\"\"\n",
    "    time, N_steps, stats = 0, 0, []\n",
    "    state_count = {k: 0 for k in rate_constants.keys()}\n",
    "    reaction_count = {(source, target): 0 \n",
    "                      for source, targets in rate_constants.items() for target in targets.keys()}\n",
    "    cycle_count = {k: 0 for k in rate_constants.keys()}\n",
    "\n",
    "    if throttle_func is None:\n",
    "        throttle_func = lambda state, end_state, state_counts, cycle_counts, reaction_count: 1\n",
    "    state = start_state if start_state is not None else random.choice(list(rate_constants.keys()))\n",
    "    while N_steps < N_steps_max and (time_max is None or time < time_max):\n",
    "        #end_states, a = zip(*rate_constants[state].items())\n",
    "        end_states, a = zip(*[(end_state, k*throttle_func(state, end_state, state_count, cycle_count, reaction_count)) \n",
    "                              for end_state, k in rate_constants[state].items()])\n",
    "        tau = ln(1/random.random())/sum(a)  # or np.random.exponential(1/sum(a))\n",
    "        end_state = random_choice(end_states, weights=a)\n",
    "        stats.append({'state': state, 'tau': tau, 'time': time})\n",
    "        state_count[state] += 1\n",
    "        reaction_count[(state, end_state)] += 1\n",
    "        state = end_state\n",
    "        time += tau\n",
    "        N_steps += 1\n",
    "    state_times = {state: sum(step['tau'] for step in stats if step['state'] == state)\n",
    "                   for state in rate_constants.keys()}\n",
    "    result = dict(zip(\"stats, cycle_count, state_count, time, state\".split(\", \"),\n",
    "                      [stats, cycle_count, state_count, time, state]))\n",
    "    return stats\n",
    "minimal_ssa = throttled_ssa"
   ]
  },
  {
   "cell_type": "code",
   "execution_count": 17,
   "metadata": {
    "collapsed": true
   },
   "outputs": [],
   "source": [
    "def state_times(stats, states):\n",
    "    return {state: sum(step['tau'] for step in stats if step['state'] == state) for state in states}\n",
    "\n",
    "def plot_time_partitions(stats, states):\n",
    "    # state_partitions = state_times(stats, states)\n",
    "    state_partitions = {state: sum(step['tau'] for step in stats if step['state'] == state) for state in rates.keys()}\n",
    "    times = [state_partitions[state] for state in states]\n",
    "    indices = range(len(states))\n",
    "    barwidth = 0.5\n",
    "    ax = pyplot.bar(indices, times, width=barwidth, alpha=0.5)\n",
    "    ticks = pyplot.xticks([i+barwidth/2 for i in indices], states)\n",
    "    xlims = pyplot.xlim(xmin=-0.1)\n",
    "    title = pyplot.title('Cumulative state time')\n"
   ]
  },
  {
   "cell_type": "code",
   "execution_count": 32,
   "metadata": {
    "collapsed": true
   },
   "outputs": [],
   "source": [
    "# throttled_ssa(rate_constants, throttle_func=None, N_steps_max=100000, time_max=None, start_state=None)\n",
    "def simulate_n_times(N_sims, rates, throttle_func=None, N_steps_max=20000, start_state=\"\"):\n",
    "    Ks = []\n",
    "    all_stats = []\n",
    "    for i in range(N_sims):\n",
    "        stats = minimal_ssa(rates, throttle_func=throttle_func, N_steps_max=N_steps_max, start_state=start_state)\n",
    "        all_stats.append(stats)\n",
    "        state_partitions = {state: sum(step['tau'] for step in stats if step['state'] == state) for state in rates.keys()}\n",
    "        K = sum(state_partitions[state] for state in states if state != \"\")/state_partitions[\"\"]\n",
    "        Ks.append(K)\n",
    "        print(\".\", end=\"\")\n",
    "    print(\"\")\n",
    "    return all_stats, Ks"
   ]
  },
  {
   "cell_type": "code",
   "execution_count": 33,
   "metadata": {
    "collapsed": false
   },
   "outputs": [
    {
     "name": "stdout",
     "output_type": "stream",
     "text": [
      "Rate constants:\n",
      "   ->  a: 1000.0\n",
      "   ->  b: 1000.0\n",
      "a  ->   : 18315.63888873418\n",
      "a  -> ab: 1000000.0\n",
      "ab ->  a: 49787.06836786395\n",
      "ab ->abs: 1000000.0\n",
      "ab ->  b: 18315.63888873418\n",
      "abs-> ab: 496585.30379140953\n",
      "b  ->   : 49787.06836786395\n",
      "b  -> ab: 1000000.0\n",
      "\n",
      "end_time: 0.177\n",
      "N_stats: 100000\n",
      "   : 0.189156\n",
      "  a: 0.0132797\n",
      "  b: 0.00454558\n",
      "abs: 0.530839\n",
      " ab: 0.26218\n",
      "\n",
      "K_on = 0.1435/0.03348 = 4.2866\n"
     ]
    },
    {
     "data": {
      "image/png": "[encoded data removed]",
      "text/plain": [
       "<matplotlib.figure.Figure at 0x147bc400>"
      ]
     },
     "metadata": {},
     "output_type": "display_data"
    }
   ],
   "source": [
    "## Self-consistent two-domain binding:\n",
    "## Emulates the \"two-domain duplex hybridization and melting\" case.\n",
    "## Off-rates depends on energy (volume) *difference*, but on-rates does not.\n",
    "## Volumes represent the whole system energy and are thus additive as the domains are hybridized/stacked.\n",
    "dE = {'a': -4, 'b': -3, 's': -0.7} # in units of RT\n",
    "states = [\"\", \"a\", \"b\", \"ab\", \"abs\"]\n",
    "conc = 1e-3\n",
    "k_on = 1e6\n",
    "# K = k_on/k_off = exp(-dG/RT), k_off = k_on * exp(dG/RT)\n",
    "\"\"\"\n",
    "           ,----------.       \n",
    "     ,--- a ---.       \\      \n",
    "    /           \\       \\     \n",
    "  u              ab --- abs   \n",
    "    \\           /       /     \n",
    "     `--- b ---´       /      \n",
    "           `----------´       \n",
    "\"\"\"\n",
    "rates = {\n",
    "            \"\": {\"a\": k_on*conc, \"b\": k_on*conc},\n",
    "            \"a\": {\"\": k_on*exp(dE['a']), \"ab\": k_on},\n",
    "            \"b\": {\"\": k_on*exp(dE['b']), \"ab\": k_on},\n",
    "            \"ab\": {\"a\": k_on*exp(dE['b']), \"b\": k_on*exp(dE['a']), \"abs\": k_on},\n",
    "            \"abs\": {\"ab\": k_on*exp(dE['s'])},\n",
    "            #\"abs\": {\"a\": k_on*exp(dE['b']+dE['s']), \"b\": k_on*exp(dE['a']+dE['s'])},\n",
    "        }\n",
    "print(\"Rate constants:\")\n",
    "print(\"\\n\".join(\"{:<3}->{:>3}: {}\".format(source, target, k) for source, targets in sorted(rates.items()) \n",
    "                for target, k in sorted(targets.items())))\n",
    "\n",
    "stats = minimal_ssa(rates, N_steps_max=100000, start_state=\"\")\n",
    "\n",
    "print(\"\\nend_time: %0.03g\" % stats[-1]['time'])\n",
    "print(\"N_stats: %s\" % len(stats))\n",
    "pyplot.figure(figsize=(10, 5))\n",
    "plot_time_partitions(stats, states=states)\n",
    "state_partitions = {state: sum(step['tau'] for step in stats if step['state'] == state) for state in rates.keys()}\n",
    "P = sum(state_partitions.values())\n",
    "#df = pd.DataFrame(state_partitions)\n",
    "print(\"\\n\".join(\"{:>3}: {:04g}\".format(state, p/P) for state, p in state_partitions.items()))\n",
    "#print(df)\n",
    "unhybridized = state_partitions[\"\"]\n",
    "hybridized = sum(state_partitions[state] for state in states if state != \"\")\n",
    "print(\"\\nK_on = %0.04g/%0.04g = %0.4f\" % (hybridized, unhybridized, hybridized/unhybridized))"
   ]
  },
  {
   "cell_type": "code",
   "execution_count": 38,
   "metadata": {
    "collapsed": false
   },
   "outputs": [
    {
     "name": "stdout",
     "output_type": "stream",
     "text": [
      "Thermodynamic/energetic equilibrium constants:\n",
      "K( ab/   ) = 1.1e+03\n",
      "K(abs/   ) = 3.64e+03\n",
      "..................................................\n",
      "..................................................\n",
      "..................................................\n",
      "..................................................\n"
     ]
    },
    {
     "data": {
      "text/plain": [
       "<matplotlib.legend.Legend at 0xb755ac8>"
      ]
     },
     "execution_count": 38,
     "metadata": {},
     "output_type": "execute_result"
    },
    {
     "data": {
      "image/png": "[encoded data removed]",
      "text/plain": [
       "<matplotlib.figure.Figure at 0x147bf128>"
      ]
     },
     "metadata": {},
     "output_type": "display_data"
    }
   ],
   "source": [
    "N_sims = 50\n",
    "N_steps_max = 40000\n",
    "\n",
    "dE = {'a': -3, 'b': -4, 's': -1.2} # in units of RT\n",
    "states = [\"\", \"a\", \"b\", \"ab\", \"abs\"]\n",
    "state_energies = {\"\": 0, \"a\": dE['a'], \"b\": dE['b'], \"ab\": dE['a']+dE['b'], \"abs\": dE['a']+dE['b']+dE['s']}\n",
    "\n",
    "rates = {\n",
    "            \"\": {\"a\": k_on*conc, \"b\": k_on*conc},\n",
    "            \"a\": {\"\": k_on*exp(dE['a']), \"ab\": k_on},\n",
    "            \"b\": {\"\": k_on*exp(dE['b']), \"ab\": k_on},\n",
    "            \"ab\": {\"a\": k_on*exp(dE['b']), \"b\": k_on*exp(dE['a']), \"abs\": k_on},\n",
    "            \"abs\": {\"ab\": k_on*exp(dE['s'])},\n",
    "            #\"abs\": {\"a\": k_on*exp(dE['b']+dE['s']), \"b\": k_on*exp(dE['a']+dE['s'])},\n",
    "        }\n",
    "\n",
    "print(\"Thermodynamic/energetic equilibrium constants:\")\n",
    "K = {(target, source): exp(state_energies[source]-state_energies[target]) \n",
    "     for source, target in ((\"\", \"a\"), (\"\", \"b\"), (\"\", \"ab\"), (\"\", \"abs\"),\n",
    "                            (\"a\", \"ab\"), (\"ab\", \"abs\"), (\"a\", \"abs\"))}\n",
    "print(\"\\n\".join(\"K(%3s/%3s) = %0.03g\" % (target, source, exp(state_energies[source]-state_energies[target]))\n",
    "                for source, target in ((\"\", \"ab\"), (\"\", \"abs\"))))\n",
    "\n",
    "## No throttle:\n",
    "all_stats, Ks = simulate_n_times(N_sims, rates, throttle_func=None)\n",
    "pyplot.plot(Ks, label=\"No throttle\")\n",
    "\n",
    "\n",
    "## Exponential:\n",
    "def throttle_func(state, end_state, state_counts, cycle_counts, reaction_count): \n",
    "    return exp(-0.001*reaction_count[(state, end_state)])\n",
    "all_stats, Ks = simulate_n_times(N_sims, rates, throttle_func=throttle_func)\n",
    "pyplot.plot(Ks, label=\"exp(-0.001*rc)\")\n",
    "\n",
    "## Exponential:\n",
    "def throttle_func(state, end_state, state_counts, cycle_counts, reaction_count): \n",
    "    return exp(-0.01*reaction_count[(state, end_state)])\n",
    "all_stats, Ks = simulate_n_times(N_sims, rates, throttle_func=throttle_func)\n",
    "pyplot.plot(Ks, label=\"exp(-0.01*rc)\")\n",
    "\n",
    "## Exponential:\n",
    "def throttle_func(state, end_state, state_counts, cycle_counts, reaction_count): \n",
    "    return exp(-0.1*reaction_count[(state, end_state)])\n",
    "all_stats, Ks = simulate_n_times(N_sims, rates, throttle_func=throttle_func)\n",
    "pyplot.plot(Ks, label=\"exp(-0.1*rc)\")\n",
    "\n",
    "\n",
    "## Finishing touch: \n",
    "#pyplot.ylim(ymin=0, ymax=1.3*max((max(K_abs_a), max(K_abs_a2), max(K_abs_a3))))\n",
    "pyplot.legend()\n",
    "#print(\"abs -> ab: avg=%.03f, std=%.03f\" % (np.average(Ks), np.std(Ks)))\n"
   ]
  },
  {
   "cell_type": "code",
   "execution_count": null,
   "metadata": {
    "collapsed": true
   },
   "outputs": [],
   "source": []
  },
  {
   "cell_type": "code",
   "execution_count": null,
   "metadata": {
    "collapsed": true
   },
   "outputs": [],
   "source": []
  },
  {
   "cell_type": "code",
   "execution_count": null,
   "metadata": {
    "collapsed": true
   },
   "outputs": [],
   "source": []
  },
  {
   "cell_type": "code",
   "execution_count": null,
   "metadata": {
    "collapsed": true
   },
   "outputs": [],
   "source": []
  }
 ],
 "metadata": {
  "kernelspec": {
   "display_name": "Python 3",
   "language": "python",
   "name": "python3"
  },
  "language_info": {
   "codemirror_mode": {
    "name": "ipython",
    "version": 3
   },
   "file_extension": ".py",
   "mimetype": "text/x-python",
   "name": "python",
   "nbconvert_exporter": "python",
   "pygments_lexer": "ipython3",
   "version": "3.4.3"
  }
 },
 "nbformat": 4,
 "nbformat_minor": 0
}
